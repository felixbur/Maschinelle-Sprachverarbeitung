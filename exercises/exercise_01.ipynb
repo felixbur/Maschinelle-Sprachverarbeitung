{
 "cells": [
  {
   "cell_type": "markdown",
   "source": [
    "# Maschinelle Sprachverarbeitung\n",
    "\n",
    "## Exercise 1: Classification"
   ],
   "metadata": {}
  },
  {
   "cell_type": "markdown",
   "source": [
    "* install [nkululeko](https://github.com/felixbur/nkululeko/)\n",
    "* download two emotional databases (A and B), link in seminar\n",
    "* create an nkululeko ini file for each"
   ],
   "metadata": {}
  },
  {
   "cell_type": "markdown",
   "source": [
    "### Question: \n",
    "* what kind of classifiers do you know? \n",
    "* in short: list them, describe them, compare them"
   ],
   "metadata": {}
  },
  {
   "cell_type": "markdown",
   "source": [
    "your answer:\n"
   ],
   "metadata": {}
  },
  {
   "cell_type": "markdown",
   "source": [
    "### Task: \n",
    "* for three different classifiers and two feature_sets, do nkululeko experiments and store the results in three folders per database\n",
    "* naming convention for folder: <database: A|B>\\_\\<classifier short\\>_\\<feature short\\>"
   ],
   "metadata": {}
  },
  {
   "cell_type": "markdown",
   "source": [
    "### Question:\n",
    "* present and interpret your results"
   ],
   "metadata": {}
  },
  {
   "cell_type": "markdown",
   "source": [
    "your answer:\n",
    "\n",
    "This, for example, is a t-SNE plot of the TRILL features for EmoDB\n",
    "\n",
    "<img src=\"tsne.png\" alt=\"my result\" width=\"500\"/>\n"
   ],
   "metadata": {}
  },
  {
   "cell_type": "markdown",
   "source": [
    "### Task: \n",
    "* train a model on database A and use this to predict database B\n",
    "* use the best performing feature from task above\n",
    "* optimize the model in three variants and store results in different folders\n",
    "* naming convention for folder: cross_data\\_\\<variant short>\n"
   ],
   "metadata": {}
  },
  {
   "cell_type": "markdown",
   "source": [
    "### Question:\n",
    "* present and interpret your results"
   ],
   "metadata": {}
  },
  {
   "cell_type": "markdown",
   "source": [
    "your answer:\n"
   ],
   "metadata": {}
  }
 ],
 "metadata": {
  "orig_nbformat": 4,
  "language_info": {
   "name": "python"
  }
 },
 "nbformat": 4,
 "nbformat_minor": 2
}