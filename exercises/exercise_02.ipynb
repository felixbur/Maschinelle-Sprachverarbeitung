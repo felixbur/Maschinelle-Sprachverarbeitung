{
 "cells": [
  {
   "cell_type": "markdown",
   "source": [
    "# Maschinelle Sprachverarbeitung\n",
    "\n",
    "## Exercise 2: Regression"
   ],
   "metadata": {}
  },
  {
   "cell_type": "markdown",
   "source": [
    "* install [nkululeko](https://github.com/felixbur/nkululeko/)\n",
    "* download one database with annotated continuous values for speaker characteristics, link in seminar\n",
    "* create an nkululeko ini file for it"
   ],
   "metadata": {}
  },
  {
   "cell_type": "markdown",
   "source": [
    "### Question: \n",
    "* what kind of regressors do you know? \n",
    "* in short: list them, describe them, compare them"
   ],
   "metadata": {}
  },
  {
   "cell_type": "markdown",
   "source": [
    "your answer:\n"
   ],
   "metadata": {}
  },
  {
   "cell_type": "markdown",
   "source": [
    "### Task: \n",
    "* for three different regressors and two feature sets, do nkululeko experiments and store the results in three folders\n",
    "* naming convention for folder: \\<database\\>\\_\\<classifier short\\>_\\<feature_short\\>"
   ],
   "metadata": {}
  },
  {
   "cell_type": "markdown",
   "source": [
    "### Question:\n",
    "* interpret your results"
   ],
   "metadata": {}
  },
  {
   "cell_type": "markdown",
   "source": [
    "your answer:\n"
   ],
   "metadata": {}
  },
  {
   "cell_type": "markdown",
   "source": [
    "### Task: \n",
    "* Bin the database so you got a classification problem now\n",
    "* Compare three classifiers and two features like in [exercise 1](exercise_01.ipynb)\n",
    "* Compare performance with task above"
   ],
   "metadata": {}
  },
  {
   "cell_type": "markdown",
   "source": [
    "### Question:\n",
    "* interpret your results"
   ],
   "metadata": {}
  },
  {
   "cell_type": "markdown",
   "source": [
    "your answer:\n"
   ],
   "metadata": {}
  }
 ],
 "metadata": {
  "orig_nbformat": 4,
  "language_info": {
   "name": "python"
  }
 },
 "nbformat": 4,
 "nbformat_minor": 2
}